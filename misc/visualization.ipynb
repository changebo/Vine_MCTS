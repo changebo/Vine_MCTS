{
 "cells": [
  {
   "cell_type": "code",
   "execution_count": 2,
   "metadata": {},
   "outputs": [],
   "source": [
    "from vinemcts.mcts import *\n",
    "import numpy as np\n",
    "import random"
   ]
  },
  {
   "cell_type": "code",
   "execution_count": 3,
   "metadata": {},
   "outputs": [],
   "source": [
    "corr = np.array([\n",
    "    [1.00, 0.40, 0.15, 0.41, 0.32, 0.62],\n",
    "    [0.40, 1.00, 0.45, 0.54, 0.76, 0.48],\n",
    "    [0.15, 0.45, 1.00, 0.20, 0.51, 0.26],\n",
    "    [0.41, 0.54, 0.20, 1.00, 0.42, 0.41],\n",
    "    [0.32, 0.76, 0.51, 0.42, 1.00, 0.36],\n",
    "    [0.62, 0.48, 0.26, 0.41, 0.36, 1.00]\n",
    "])\n",
    "n_sample = 1000\n",
    "ntrunc = 2\n",
    "output_dir = \"temp\"\n",
    "itermax = 3000\n",
    "FPU = 1.5\n",
    "PB = 0.1\n",
    "log_freq = 500"
   ]
  },
  {
   "cell_type": "code",
   "execution_count": 4,
   "metadata": {},
   "outputs": [
    {
     "name": "stdout",
     "output_type": "stream",
     "text": [
      "temp, Iter 500: \n",
      "best_score: 2.361811995744089\n",
      "temp, Iter 1000: \n",
      "best_score: 2.361811995744089\n",
      "temp, Iter 1500: \n",
      "best_score: 2.361811995744089\n",
      "temp, Iter 2000: \n",
      "best_score: 2.361811995744089\n",
      "temp, Iter 2500: \n",
      "best_score: 2.361811995744089\n"
     ]
    }
   ],
   "source": [
    "random.seed(0)\n",
    "np.random.seed(0)\n",
    "corr_mat = CorrMat(corr, n_sample)\n",
    "root_state = VineState(ntrunc=ntrunc, corr_mat=corr_mat)\n",
    "\n",
    "transpos_table = {}\n",
    "config = {\n",
    "    # a dictionary: state -> node.\n",
    "    'transpos_table': transpos_table,\n",
    "    # UCB1 formula: \\bar{x} + UCT_const \\sqrt{log(n)/log(n_j)}\n",
    "    'UCT_const': (-corr_mat.log_det()),\n",
    "    # First Play Urgency\n",
    "    'FPU': FPU,\n",
    "    # Progressive Bias\n",
    "    'PB': PB\n",
    "}\n",
    "root_node = MctsNode(config, root_state)\n",
    "\n",
    "best_score = 0   # we want to maximize the score\n",
    "best_vine = None\n",
    "\n",
    "for i in range(itermax):\n",
    "    node = root_node\n",
    "    temp_node_list = [node]\n",
    "\n",
    "    # Select\n",
    "    while not node.is_leaf():\n",
    "        node = node.select_child()\n",
    "        temp_node_list.append(node)\n",
    "\n",
    "    # Expand\n",
    "    if node.visits > 0:\n",
    "        # Only expand the leaf node if it has been visited.\n",
    "\n",
    "        add_children_success = node.add_children()\n",
    "\n",
    "        if add_children_success:\n",
    "            node = node.select_child()\n",
    "            temp_node_list.append(node)\n",
    "\n",
    "    # Rollout\n",
    "    score, vine = node.roll_out()\n",
    "\n",
    "    if score > best_score:\n",
    "        best_score = score\n",
    "        best_vine = vine\n",
    "\n",
    "    if i % log_freq == 0 and i > 0:\n",
    "        print(output_dir + ', Iter %d: ' % i)\n",
    "        print(\"best_score: \" + str(best_score))\n",
    "\n",
    "    # Backpropagate\n",
    "    [node.update(score) for node in temp_node_list]\n"
   ]
  },
  {
   "cell_type": "code",
   "execution_count": 5,
   "metadata": {},
   "outputs": [],
   "source": [
    "def show_node(node):\n",
    "    print(node.state, node.visits, node.sum_score / node.visits)"
   ]
  },
  {
   "cell_type": "markdown",
   "metadata": {},
   "source": [
    "## Level 1"
   ]
  },
  {
   "cell_type": "code",
   "execution_count": 6,
   "metadata": {},
   "outputs": [
    {
     "name": "stdout",
     "output_type": "stream",
     "text": [
      "[] 3000 2.177163048297819\n"
     ]
    }
   ],
   "source": [
    "show_node(root_node)"
   ]
  },
  {
   "cell_type": "code",
   "execution_count": 7,
   "metadata": {},
   "outputs": [
    {
     "data": {
      "text/plain": [
       "[277, 142, 210, 182, 233, 169, 176, 229, 170, 204, 180, 252, 147, 210, 218]"
      ]
     },
     "execution_count": 7,
     "metadata": {},
     "output_type": "execute_result"
    }
   ],
   "source": [
    "root_node.child_visits"
   ]
  },
  {
   "cell_type": "code",
   "execution_count": 8,
   "metadata": {},
   "outputs": [
    {
     "name": "stdout",
     "output_type": "stream",
     "text": [
      "['0,1'] 277 2.2766059087961725\n"
     ]
    }
   ],
   "source": [
    "show_node(root_node.child_nodes[0])"
   ]
  },
  {
   "cell_type": "code",
   "execution_count": 12,
   "metadata": {},
   "outputs": [
    {
     "data": {
      "text/plain": [
       "0.1743533871447778"
      ]
     },
     "execution_count": 12,
     "metadata": {},
     "output_type": "execute_result"
    }
   ],
   "source": [
    "root_node.child_nodes[0].state.score - root_node.state.score # child state score - parent state score"
   ]
  },
  {
   "cell_type": "code",
   "execution_count": 8,
   "metadata": {},
   "outputs": [
    {
     "name": "stdout",
     "output_type": "stream",
     "text": [
      "['0,2'] 142 2.0468721622720474\n"
     ]
    }
   ],
   "source": [
    "show_node(root_node.child_nodes[1])"
   ]
  },
  {
   "cell_type": "code",
   "execution_count": 13,
   "metadata": {},
   "outputs": [
    {
     "data": {
      "text/plain": [
       "0.02275698712261618"
      ]
     },
     "execution_count": 13,
     "metadata": {},
     "output_type": "execute_result"
    }
   ],
   "source": [
    "root_node.child_nodes[1].state.score - root_node.state.score"
   ]
  },
  {
   "cell_type": "code",
   "execution_count": 9,
   "metadata": {},
   "outputs": [
    {
     "name": "stdout",
     "output_type": "stream",
     "text": [
      "['4,5'] 218 2.2040281172297607\n"
     ]
    }
   ],
   "source": [
    "show_node(root_node.child_nodes[-1])"
   ]
  },
  {
   "cell_type": "code",
   "execution_count": 14,
   "metadata": {},
   "outputs": [
    {
     "data": {
      "text/plain": [
       "0.1388024028804588"
      ]
     },
     "execution_count": 14,
     "metadata": {},
     "output_type": "execute_result"
    }
   ],
   "source": [
    "root_node.child_nodes[-1].state.score - root_node.state.score"
   ]
  },
  {
   "cell_type": "markdown",
   "metadata": {},
   "source": [
    "## Level 2"
   ]
  },
  {
   "cell_type": "code",
   "execution_count": 15,
   "metadata": {},
   "outputs": [
    {
     "data": {
      "text/plain": [
       "[31, 34, 31, 37, 35, 36, 37, 35]"
      ]
     },
     "execution_count": 15,
     "metadata": {},
     "output_type": "execute_result"
    }
   ],
   "source": [
    "root_node.child_nodes[0].child_visits"
   ]
  },
  {
   "cell_type": "code",
   "execution_count": 16,
   "metadata": {},
   "outputs": [
    {
     "name": "stdout",
     "output_type": "stream",
     "text": [
      "['0,1', '0,2'] 59 2.195470337082897\n"
     ]
    }
   ],
   "source": [
    "show_node(root_node.child_nodes[0].child_nodes[0])"
   ]
  },
  {
   "cell_type": "code",
   "execution_count": 18,
   "metadata": {},
   "outputs": [
    {
     "data": {
      "text/plain": [
       "0.022756987122616174"
      ]
     },
     "execution_count": 18,
     "metadata": {},
     "output_type": "execute_result"
    }
   ],
   "source": [
    "root_node.child_nodes[0].child_nodes[0].state.score - root_node.child_nodes[0].state.score"
   ]
  },
  {
   "cell_type": "code",
   "execution_count": 12,
   "metadata": {},
   "outputs": [
    {
     "name": "stdout",
     "output_type": "stream",
     "text": [
      "['0,1', '0,3'] 60 2.26671243107355\n"
     ]
    }
   ],
   "source": [
    "show_node(root_node.child_nodes[0].child_nodes[1])"
   ]
  },
  {
   "cell_type": "code",
   "execution_count": 19,
   "metadata": {},
   "outputs": [
    {
     "data": {
      "text/plain": [
       "0.18404303769229488"
      ]
     },
     "execution_count": 19,
     "metadata": {},
     "output_type": "execute_result"
    }
   ],
   "source": [
    "root_node.child_nodes[0].child_nodes[1].state.score - root_node.child_nodes[0].state.score"
   ]
  },
  {
   "cell_type": "code",
   "execution_count": 13,
   "metadata": {},
   "outputs": [
    {
     "name": "stdout",
     "output_type": "stream",
     "text": [
      "['0,1', '1,5'] 70 2.289627133104494\n"
     ]
    }
   ],
   "source": [
    "show_node(root_node.child_nodes[0].child_nodes[-1])"
   ]
  },
  {
   "cell_type": "code",
   "execution_count": 20,
   "metadata": {},
   "outputs": [
    {
     "data": {
      "text/plain": [
       "0.26188437963064026"
      ]
     },
     "execution_count": 20,
     "metadata": {},
     "output_type": "execute_result"
    }
   ],
   "source": [
    "root_node.child_nodes[0].child_nodes[-1].state.score - root_node.child_nodes[0].state.score"
   ]
  },
  {
   "cell_type": "markdown",
   "metadata": {},
   "source": [
    "## Level 6"
   ]
  },
  {
   "cell_type": "code",
   "execution_count": 22,
   "metadata": {},
   "outputs": [
    {
     "name": "stdout",
     "output_type": "stream",
     "text": [
      "['0,1', '0,5', '1,2', '1,3', '1,4'] 93 2.3471707563756627\n"
     ]
    }
   ],
   "source": [
    "new_root = root_node.child_nodes[2].child_nodes[1].child_nodes[0].child_nodes[1].child_nodes[1]\n",
    "show_node(new_root)"
   ]
  },
  {
   "cell_type": "code",
   "execution_count": 23,
   "metadata": {},
   "outputs": [
    {
     "data": {
      "text/plain": [
       "[0, 32, 0, 25, 32, 0, 0]"
      ]
     },
     "execution_count": 23,
     "metadata": {},
     "output_type": "execute_result"
    }
   ],
   "source": [
    "new_root.child_visits"
   ]
  },
  {
   "cell_type": "code",
   "execution_count": 24,
   "metadata": {},
   "outputs": [
    {
     "name": "stdout",
     "output_type": "stream",
     "text": [
      "['0,1', '0,5', '1,2', '1,3', '1,4', '1,5|0'] 32 2.351193313514363\n"
     ]
    }
   ],
   "source": [
    "show_node(new_root.child_nodes[1])"
   ]
  },
  {
   "cell_type": "code",
   "execution_count": 25,
   "metadata": {},
   "outputs": [
    {
     "data": {
      "text/plain": [
       "0.10991239190241187"
      ]
     },
     "execution_count": 25,
     "metadata": {},
     "output_type": "execute_result"
    }
   ],
   "source": [
    "new_root.child_nodes[1].state.score - new_root.state.score"
   ]
  },
  {
   "cell_type": "code",
   "execution_count": 19,
   "metadata": {
    "scrolled": true
   },
   "outputs": [
    {
     "data": {
      "text/plain": [
       "(2.2075903978906553,\n",
       " ['0,1', '0,5', '1,2', '1,3', '1,4', '0,2|1', '0,4|1', '1,5|0', '2,3|1'])"
      ]
     },
     "execution_count": 19,
     "metadata": {},
     "output_type": "execute_result"
    }
   ],
   "source": [
    "new_root.child_nodes[1].roll_out()"
   ]
  },
  {
   "cell_type": "code",
   "execution_count": 17,
   "metadata": {},
   "outputs": [
    {
     "name": "stdout",
     "output_type": "stream",
     "text": [
      "['0,1', '0,5', '1,2', '1,3', '1,4', '0,3|1'] 25 2.349568267360866\n"
     ]
    }
   ],
   "source": [
    "show_node(new_root.child_nodes[3])"
   ]
  },
  {
   "cell_type": "code",
   "execution_count": 26,
   "metadata": {},
   "outputs": [
    {
     "data": {
      "text/plain": [
       "0.06533652348426289"
      ]
     },
     "execution_count": 26,
     "metadata": {},
     "output_type": "execute_result"
    }
   ],
   "source": [
    "new_root.child_nodes[3].state.score - new_root.state.score"
   ]
  },
  {
   "cell_type": "code",
   "execution_count": 30,
   "metadata": {},
   "outputs": [
    {
     "data": {
      "text/plain": [
       "(2.26964869204995,\n",
       " ['0,1', '0,5', '1,2', '1,3', '1,4', '0,2|1', '0,3|1', '0,4|1', '1,5|0'])"
      ]
     },
     "execution_count": 30,
     "metadata": {},
     "output_type": "execute_result"
    }
   ],
   "source": [
    "new_root.child_nodes[3].roll_out()"
   ]
  },
  {
   "cell_type": "code",
   "execution_count": 31,
   "metadata": {},
   "outputs": [
    {
     "name": "stdout",
     "output_type": "stream",
     "text": [
      "['0,1', '0,5', '1,2', '1,3', '1,4', '2,4|1'] 32 2.3540433833923533\n"
     ]
    }
   ],
   "source": [
    "show_node(new_root.child_nodes[4])"
   ]
  },
  {
   "cell_type": "code",
   "execution_count": 32,
   "metadata": {},
   "outputs": [
    {
     "data": {
      "text/plain": [
       "0.08750373891149543"
      ]
     },
     "execution_count": 32,
     "metadata": {},
     "output_type": "execute_result"
    }
   ],
   "source": [
    "new_root.child_nodes[4].state.score - new_root.state.score"
   ]
  },
  {
   "cell_type": "code",
   "execution_count": 21,
   "metadata": {},
   "outputs": [
    {
     "data": {
      "text/plain": [
       "(2.290779559933444,\n",
       " ['0,1', '0,5', '1,2', '1,3', '1,4', '0,4|1', '1,5|0', '2,4|1', '3,4|1'])"
      ]
     },
     "execution_count": 21,
     "metadata": {},
     "output_type": "execute_result"
    }
   ],
   "source": [
    "new_root.child_nodes[4].roll_out()"
   ]
  },
  {
   "cell_type": "code",
   "execution_count": null,
   "metadata": {},
   "outputs": [],
   "source": []
  }
 ],
 "metadata": {
  "kernelspec": {
   "display_name": "Python 3",
   "language": "python",
   "name": "python3"
  },
  "language_info": {
   "codemirror_mode": {
    "name": "ipython",
    "version": 3
   },
   "file_extension": ".py",
   "mimetype": "text/x-python",
   "name": "python",
   "nbconvert_exporter": "python",
   "pygments_lexer": "ipython3",
   "version": "3.7.3"
  }
 },
 "nbformat": 4,
 "nbformat_minor": 2
}
